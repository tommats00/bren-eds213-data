{
 "cells": [
  {
   "cell_type": "markdown",
   "id": "ebffb991",
   "metadata": {},
   "source": [
    "### Week 5 Homework: Bash Essentials"
   ]
  },
  {
   "cell_type": "markdown",
   "id": "67a15f9b",
   "metadata": {},
   "source": [
    "### Question 1:\n",
    "Compare the output of these three commands\n",
    "\n",
    "- ls\n",
    "- ls .\n",
    "- ls \"$(pwd)/../ASDN_csv\"\n",
    "\n",
    "`ls` gives you a list of all the files that are within the directory. `ls .` doesn't seem to have a different output than the first one. The last one `ls \"$(pwd)/../ASDN_csv\"` gives me the same output as the previous two. From the code is looks like it is giving me the file path for the file path up to `ASDN_csv`. Seeing as I am already in that directory, I expect to see the same output for all three. "
   ]
  },
  {
   "cell_type": "markdown",
   "id": "8acea628",
   "metadata": {},
   "source": [
    "### Question 2:\n",
    "Try the following two commands\n",
    "\n",
    "- `wc -l *.csv`\n",
    "- `cat *.csv | wc -l`\n",
    "\n",
    "The second command only includes a value because it is first saying to concatenate all csv files, then piping that information into a word count in lines. "
   ]
  },
  {
   "cell_type": "markdown",
   "id": "be81c040",
   "metadata": {},
   "source": [
    "### Question 3:\n",
    "You want to count the total number of lines in all CSV files and try this command:\n",
    "- `cat *.csv | wc -l species.csv`\n",
    "\n",
    "What happens and why? \n",
    "\n",
    "It gives me the word count or the numer of lines/rows of the `species.csv` file. I checked this by running `wc -l specices.csv` by itself. The first part is telling to concatenate all csv files and then pipe into a word count for the species.csv file. This is probably just overwriting the intial concatanate function. To fix this issue, we should run `cat *.csv | wc -l`."
   ]
  },
  {
   "cell_type": "markdown",
   "id": "2d1b96ef",
   "metadata": {},
   "source": [
    "### Question 4:  \n",
    "- `name=Moe`\n",
    "\n",
    "Want to print \"Moe_Howard\", so we try `echo \"$name_Howard\"`, but that doesn't work. How do we fix this? \n",
    "\n",
    "The problem is that our variable is being recognized as `name_Howard` and not just `name`. This is because everything is within quotes. To distinguish the variable from the rest of the string, we need to add `{}` to the input. So, the corrected input is `echo \"${name}_Howard\"`"
   ]
  },
  {
   "cell_type": "markdown",
   "id": "96030ec8",
   "metadata": {},
   "source": [
    "### Question 5:\n",
    "You create a script and run it like so:\n",
    "\n",
    "- `bash myscript.sh *.csv`\n",
    "\n",
    "What are the values of variables `$1` and `$#?` Explain why the script does not see just one argument passed to it.\n",
    "\n",
    "The new `myscript.sh` would be composed of all csv files. The variable `$1` would be the first csv file in the script and `$#?` would be the total number of csv files in the script. "
   ]
  },
  {
   "cell_type": "markdown",
   "id": "fa921a2e",
   "metadata": {},
   "source": [
    "### Question 6\n",
    "You create a script and run it like so:\n",
    "- `bash myscript.sh \"$(date)\" $(date)`\n",
    "\n",
    "In your script, what is the value of variable $3\n",
    "\n",
    "The third variable, `$3`, will be the month, May, from the outputted string"
   ]
  },
  {
   "cell_type": "markdown",
   "id": "21404e06",
   "metadata": {},
   "source": [
    "### Question 7:\n",
    "Create a file you don't care about\n",
    "\n",
    "- `echo \"yo ho a line of text\" > junk_file.txt`\n",
    "- `echo \"another line\" >> junk_file.txt`\n",
    "\n",
    "Sort the lines in this file, so you try: \n",
    "\n",
    "- `sort junk_file.txt`\n",
    "\n",
    "Well that prints the lines in sorted order, but it doesn’t actually change the file. You recall section 7 and try:\n",
    "\n",
    "`sort junk_file.txt > junk_file.txt`\n",
    "\n",
    "What happens and why? How can you sort the lines in your file? (Hint: it involves creating a second file and using mv.)\n",
    "\n",
    "This doesn't overwrite the text file with the sorted text. It creates a new text file and then sorts it. From the hint, we need to sort a newly created text file and then `mv` (replace) the original.\n",
    "\n",
    "We can do this by the following: `sort junk_file.txt > temp.txt && mv temp.txt junk_file.txt`"
   ]
  },
  {
   "cell_type": "markdown",
   "id": "a479eb71",
   "metadata": {},
   "source": [
    "### Question 8:\n",
    "You want to delete all files ending in .`csv`, so you type (don’t actually try this):\n",
    "\n",
    "`rm * .csv`\n",
    "\n",
    "but as can be seen, your thumb accidentally hit the space bar and you got an extra space in there. What will `rm` do in this case?\n",
    "\n",
    "I believe it will delete everything in the file directory. It is saying to remove all files, and then remove a file called .csv. "
   ]
  }
 ],
 "metadata": {
  "language_info": {
   "name": "python"
  }
 },
 "nbformat": 4,
 "nbformat_minor": 5
}
