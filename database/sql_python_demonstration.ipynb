{
 "cells": [
  {
   "cell_type": "code",
   "execution_count": 3,
   "id": "2281d4a1-c1c7-4da6-92bd-efa2aefb521a",
   "metadata": {
    "tags": []
   },
   "outputs": [
    {
     "name": "stdout",
     "output_type": "stream",
     "text": [
      "Defaulting to user installation because normal site-packages is not writeable\n",
      "Collecting duckdb\n",
      "  Downloading duckdb-1.2.2-cp37-cp37m-manylinux_2_17_x86_64.manylinux2014_x86_64.whl (20.2 MB)\n",
      "\u001b[2K     \u001b[90m━━━━━━━━━━━━━━━━━━━━━━━━━━━━━━━━━━━━━━━━\u001b[0m \u001b[32m20.2/20.2 MB\u001b[0m \u001b[31m30.9 MB/s\u001b[0m eta \u001b[36m0:00:00\u001b[0m00:01\u001b[0m00:01\u001b[0m\n",
      "\u001b[?25hInstalling collected packages: duckdb\n",
      "Successfully installed duckdb-1.2.2\n",
      "\u001b[33mWARNING: You are using pip version 22.0.4; however, version 24.0 is available.\n",
      "You should consider upgrading via the '/opt/python/3.7.13/bin/python3.7 -m pip install --upgrade pip' command.\u001b[0m\u001b[33m\n",
      "\u001b[0mNote: you may need to restart the kernel to use updated packages.\n"
     ]
    }
   ],
   "source": [
    "%pip install duckdb"
   ]
  },
  {
   "cell_type": "code",
   "execution_count": 3,
   "id": "d02dc742-038d-406d-9a16-31fd579c768d",
   "metadata": {
    "tags": []
   },
   "outputs": [],
   "source": [
    "import duckdb"
   ]
  },
  {
   "cell_type": "code",
   "execution_count": 4,
   "id": "fdb7226b-25ec-48c1-bb1c-4e67edf230bf",
   "metadata": {},
   "outputs": [
    {
     "name": "stdout",
     "output_type": "stream",
     "text": [
      "database.db\n"
     ]
    }
   ],
   "source": [
    "%ls database.db"
   ]
  },
  {
   "cell_type": "code",
   "execution_count": 5,
   "id": "3c552057-1db5-4451-9c34-d317f10ad7ed",
   "metadata": {
    "tags": []
   },
   "outputs": [],
   "source": [
    "conn = duckdb.connect(\"database.db\")"
   ]
  },
  {
   "cell_type": "code",
   "execution_count": 6,
   "id": "6bfd8021-f9f6-4d60-8d8e-b75e4715bf44",
   "metadata": {
    "tags": []
   },
   "outputs": [
    {
     "data": {
      "text/plain": [
       "<duckdb.duckdb.DuckDBPyConnection at 0x7f0680252e30>"
      ]
     },
     "execution_count": 6,
     "metadata": {},
     "output_type": "execute_result"
    }
   ],
   "source": [
    "conn"
   ]
  },
  {
   "cell_type": "markdown",
   "id": "9aa299bc-3554-423a-975b-e4a96337a20f",
   "metadata": {},
   "source": [
    "Create a cursor to hold the context of executing a query or other SQL statement"
   ]
  },
  {
   "cell_type": "code",
   "execution_count": 7,
   "id": "b6b85ae0-573d-4b8a-814d-46f468e274bc",
   "metadata": {
    "tags": []
   },
   "outputs": [],
   "source": [
    "cur = conn.cursor()"
   ]
  },
  {
   "cell_type": "code",
   "execution_count": 8,
   "id": "e6c5839f-211b-4e05-aa68-2a1c95f1c166",
   "metadata": {
    "tags": []
   },
   "outputs": [
    {
     "data": {
      "text/plain": [
       "<duckdb.duckdb.DuckDBPyConnection at 0x7f068001be70>"
      ]
     },
     "execution_count": 8,
     "metadata": {},
     "output_type": "execute_result"
    }
   ],
   "source": [
    "cur.execute(\"SELECT * FROM Site LIMIT 3\")"
   ]
  },
  {
   "cell_type": "markdown",
   "id": "4f6c73d0-b525-40c3-885d-25cc4ef36a50",
   "metadata": {},
   "source": [
    "Method 1: GEtting all at once using fetchall"
   ]
  },
  {
   "cell_type": "code",
   "execution_count": 9,
   "id": "28a24404-43fd-4fe6-bde2-53d2f879cc1f",
   "metadata": {
    "tags": []
   },
   "outputs": [
    {
     "data": {
      "text/plain": [
       "[('barr',\n",
       "  'Barrow',\n",
       "  'Alaska, USA',\n",
       "  71.30000305175781,\n",
       "  -156.60000610351562,\n",
       "  220.39999389648438),\n",
       " ('burn',\n",
       "  'Burntpoint Creek',\n",
       "  'Ontario, Canada',\n",
       "  55.20000076293945,\n",
       "  -84.30000305175781,\n",
       "  63.0),\n",
       " ('bylo',\n",
       "  'Bylot Island',\n",
       "  'Nunavut, Canada',\n",
       "  73.19999694824219,\n",
       "  -80.0,\n",
       "  723.5999755859375)]"
      ]
     },
     "execution_count": 9,
     "metadata": {},
     "output_type": "execute_result"
    }
   ],
   "source": [
    "cur.fetchall()"
   ]
  },
  {
   "cell_type": "markdown",
   "id": "456fb969-28d3-4fe9-8874-c9929b1f0e37",
   "metadata": {},
   "source": [
    "Cursors don't save any results; they're just a pass through mechanism\n",
    "\n",
    "Cursors always return list of tuples, even 1-tuples"
   ]
  },
  {
   "cell_type": "code",
   "execution_count": 10,
   "id": "33f8a26e-dc1c-4904-9798-7019941beb19",
   "metadata": {
    "tags": []
   },
   "outputs": [
    {
     "data": {
      "text/plain": [
       "[('barr',), ('burn',), ('bylo',)]"
      ]
     },
     "execution_count": 10,
     "metadata": {},
     "output_type": "execute_result"
    }
   ],
   "source": [
    "cur.execute(\"SELECT Code FROM Site LIMIT 3\")\n",
    "cur.fetchall()"
   ]
  },
  {
   "cell_type": "markdown",
   "id": "a555f790-33a4-4da0-a155-e25cb6650b7b",
   "metadata": {},
   "source": [
    "Method 2: Geting one result at a time"
   ]
  },
  {
   "cell_type": "code",
   "execution_count": 11,
   "id": "8a2c86a3-8743-40e5-9a95-0f538bf50d2a",
   "metadata": {
    "tags": []
   },
   "outputs": [
    {
     "data": {
      "text/plain": [
       "('barr',)"
      ]
     },
     "execution_count": 11,
     "metadata": {},
     "output_type": "execute_result"
    }
   ],
   "source": [
    "cur.execute(\"SELECT Code FROM Site\")\n",
    "cur.fetchone()"
   ]
  },
  {
   "cell_type": "code",
   "execution_count": 12,
   "id": "5a6a9f70-c975-482c-851e-9aad69fe004a",
   "metadata": {
    "tags": []
   },
   "outputs": [
    {
     "data": {
      "text/plain": [
       "('burn',)"
      ]
     },
     "execution_count": 12,
     "metadata": {},
     "output_type": "execute_result"
    }
   ],
   "source": [
    "cur.fetchone()"
   ]
  },
  {
   "cell_type": "code",
   "execution_count": 13,
   "id": "766f9adc-88fd-4580-9ea3-ba1bf904e1ed",
   "metadata": {
    "tags": []
   },
   "outputs": [
    {
     "data": {
      "text/plain": [
       "('bylo',)"
      ]
     },
     "execution_count": 13,
     "metadata": {},
     "output_type": "execute_result"
    }
   ],
   "source": [
    "cur.fetchone()"
   ]
  },
  {
   "cell_type": "markdown",
   "id": "74f5b905-5aaf-4814-9f32-f65f52ca13e7",
   "metadata": {},
   "source": [
    "Method 3: Iterate over a cursor -- sadly, not supported by DUCKDB\n"
   ]
  },
  {
   "cell_type": "code",
   "execution_count": 14,
   "id": "f5a7d516-7190-4ca3-b145-d4a4455b0647",
   "metadata": {
    "tags": []
   },
   "outputs": [
    {
     "ename": "TypeError",
     "evalue": "'duckdb.duckdb.DuckDBPyConnection' object is not iterable",
     "output_type": "error",
     "traceback": [
      "\u001b[0;31m---------------------------------------------------------------------------\u001b[0m",
      "\u001b[0;31mTypeError\u001b[0m                                 Traceback (most recent call last)",
      "\u001b[0;32m/tmp/ipykernel_49241/1652697441.py\u001b[0m in \u001b[0;36m<module>\u001b[0;34m\u001b[0m\n\u001b[1;32m      1\u001b[0m \u001b[0mcur\u001b[0m\u001b[0;34m.\u001b[0m\u001b[0mexecute\u001b[0m\u001b[0;34m(\u001b[0m\u001b[0;34m\"SELECT Code FROM Site\"\u001b[0m\u001b[0;34m)\u001b[0m\u001b[0;34m\u001b[0m\u001b[0;34m\u001b[0m\u001b[0m\n\u001b[0;32m----> 2\u001b[0;31m \u001b[0;32mfor\u001b[0m \u001b[0mrow\u001b[0m \u001b[0;32min\u001b[0m \u001b[0mcur\u001b[0m\u001b[0;34m:\u001b[0m\u001b[0;34m\u001b[0m\u001b[0;34m\u001b[0m\u001b[0m\n\u001b[0m\u001b[1;32m      3\u001b[0m     \u001b[0mprint\u001b[0m\u001b[0;34m(\u001b[0m\u001b[0mrow\u001b[0m\u001b[0;34m)\u001b[0m\u001b[0;34m\u001b[0m\u001b[0;34m\u001b[0m\u001b[0m\n",
      "\u001b[0;31mTypeError\u001b[0m: 'duckdb.duckdb.DuckDBPyConnection' object is not iterable"
     ]
    }
   ],
   "source": [
    "cur.execute(\"SELECT Code FROM Site\")\n",
    "for row in cur: \n",
    "    print(row)"
   ]
  },
  {
   "cell_type": "markdown",
   "id": "0587e7e4-84f3-4ab9-b778-6a207283b053",
   "metadata": {},
   "source": [
    "Can do things other than SELECTS"
   ]
  },
  {
   "cell_type": "code",
   "execution_count": 16,
   "id": "0abd946a-78fc-4197-99c7-a7f2e3b38b00",
   "metadata": {
    "tags": []
   },
   "outputs": [
    {
     "data": {
      "text/plain": [
       "<duckdb.duckdb.DuckDBPyConnection at 0x7f068001be70>"
      ]
     },
     "execution_count": 16,
     "metadata": {},
     "output_type": "execute_result"
    }
   ],
   "source": [
    "cur.execute(\"\"\"CREATE TEMP TABLE t AS\n",
    "    SELECT * FROM Bird_nests WHERE Nest_ID LIKE '14%'\"\"\")"
   ]
  },
  {
   "cell_type": "code",
   "execution_count": 17,
   "id": "3d1f430c-9bc1-484e-9dd2-3fd0400f987b",
   "metadata": {
    "tags": []
   },
   "outputs": [
    {
     "data": {
      "text/plain": [
       "[(99,)]"
      ]
     },
     "execution_count": 17,
     "metadata": {},
     "output_type": "execute_result"
    }
   ],
   "source": [
    "cur.fetchall()"
   ]
  },
  {
   "cell_type": "code",
   "execution_count": 18,
   "id": "e308c488-21ee-4069-af7b-c742e743ed22",
   "metadata": {
    "tags": []
   },
   "outputs": [
    {
     "data": {
      "text/plain": [
       "99"
      ]
     },
     "execution_count": 18,
     "metadata": {},
     "output_type": "execute_result"
    }
   ],
   "source": [
    "cur.execute(\"SELECT COUNT(*) FROM t\")\n",
    "cur.fetchone()[0]"
   ]
  },
  {
   "cell_type": "markdown",
   "id": "1900455e-c1b7-40fe-a43a-4129f90bd6b8",
   "metadata": {},
   "source": [
    "A better practice: spell it out. More specifically: don't do a SELECT *"
   ]
  },
  {
   "cell_type": "code",
   "execution_count": 19,
   "id": "a1d54d51-0b81-4b75-8677-b6cc16b0dd26",
   "metadata": {
    "tags": []
   },
   "outputs": [
    {
     "data": {
      "text/plain": [
       "[('barr', 71.30000305175781, -156.60000610351562),\n",
       " ('burn', 55.20000076293945, -84.30000305175781),\n",
       " ('bylo', 73.19999694824219, -80.0)]"
      ]
     },
     "execution_count": 19,
     "metadata": {},
     "output_type": "execute_result"
    }
   ],
   "source": [
    "cur.execute(\"SELECT Code, Latitude, Longitude FROM Site LIMIT 3\")\n",
    "cur.fetchall()"
   ]
  },
  {
   "cell_type": "markdown",
   "id": "6cdb64c4-6a48-4d94-bef8-67191ab8c9e3",
   "metadata": {},
   "source": [
    "Parameterize queries"
   ]
  },
  {
   "cell_type": "code",
   "execution_count": 20,
   "id": "c753f0d3-7916-4537-8395-c4fe2e4e23f5",
   "metadata": {
    "tags": []
   },
   "outputs": [
    {
     "data": {
      "text/plain": [
       "[('agsq',), ('amcr',), ('amgp',)]"
      ]
     },
     "execution_count": 20,
     "metadata": {},
     "output_type": "execute_result"
    }
   ],
   "source": [
    "cur.execute(\"SELECT Code FROM Species LIMIT 3\")\n",
    "cur.fetchall()"
   ]
  },
  {
   "cell_type": "markdown",
   "id": "f0e5f2ba-b2c7-4384-99ef-741185cfc06b",
   "metadata": {},
   "source": [
    "Hypothesize: we want to know the number of nests for each species (and we're not going to use GROUP BY)"
   ]
  },
  {
   "cell_type": "code",
   "execution_count": 21,
   "id": "e367c6e1-278a-44c3-9e00-fa9ae93f69b1",
   "metadata": {
    "tags": []
   },
   "outputs": [
    {
     "data": {
      "text/plain": [
       "[(0,)]"
      ]
     },
     "execution_count": 21,
     "metadata": {},
     "output_type": "execute_result"
    }
   ],
   "source": [
    "species = 'agsq'\n",
    "query = \"SELECT COUNT(*) FROM Bird_nests WHERE Species = ?\"\n",
    "cur.execute(query, [species])\n",
    "cur.fetchall()"
   ]
  },
  {
   "cell_type": "markdown",
   "id": "bebce5c8-d497-4d02-9297-80c31cf81470",
   "metadata": {},
   "source": [
    "Let's put two things together: query for all species, and looop those species, getting the number of nests for each species"
   ]
  },
  {
   "cell_type": "code",
   "execution_count": 22,
   "id": "05a1ea6c-6e91-460e-a154-65a493cf79b0",
   "metadata": {
    "tags": []
   },
   "outputs": [
    {
     "name": "stdout",
     "output_type": "stream",
     "text": [
      "Species agsq has 0 nests\n",
      "Species amcr has 0 nests\n",
      "Species amgp has 29 nests\n",
      "Species arfo has 0 nests\n",
      "Species arte has 0 nests\n",
      "Species basa has 0 nests\n",
      "Species bbis has 0 nests\n",
      "Species bbpl has 43 nests\n",
      "Species bbsa has 0 nests\n",
      "Species besw has 0 nests\n",
      "Species bltu has 0 nests\n",
      "Species brant has 0 nests\n",
      "Species brbe has 0 nests\n",
      "Species brle has 0 nests\n",
      "Species btcu has 0 nests\n",
      "Species btgo has 3 nests\n",
      "Species cole has 0 nests\n",
      "Species cora has 0 nests\n",
      "Species cosn has 0 nests\n",
      "Species crpl has 2 nests\n",
      "Species cusa has 0 nests\n",
      "Species dunl has 101 nests\n",
      "Species eywa has 0 nests\n",
      "Species glgu has 0 nests\n",
      "Species goea has 0 nests\n",
      "Species gwfg has 0 nests\n",
      "Species gwgu has 0 nests\n",
      "Species gwte has 0 nests\n",
      "Species gyrf has 0 nests\n",
      "Species herg has 3 nests\n",
      "Species hore has 0 nests\n",
      "Species hugo has 0 nests\n",
      "Species kill has 0 nests\n",
      "Species lalo has 33 nests\n",
      "Species lbdo has 1 nests\n",
      "Species lesa has 0 nests\n",
      "Species leye has 0 nests\n",
      "Species list has 0 nests\n",
      "Species ltdu has 0 nests\n",
      "Species ltja has 0 nests\n",
      "Species ltwe has 0 nests\n",
      "Species mago has 0 nests\n",
      "Species megu has 0 nests\n",
      "Species merl has 0 nests\n",
      "Species noha has 0 nests\n",
      "Species nopi has 0 nests\n",
      "Species nrvo has 0 nests\n",
      "Species nsho has 0 nests\n",
      "Species pagp has 0 nests\n",
      "Species paja has 2 nests\n",
      "Species palo has 0 nests\n",
      "Species pefa has 0 nests\n",
      "Species pesa has 14 nests\n",
      "Species pobe has 0 nests\n",
      "Species poja has 0 nests\n",
      "Species pusa has 0 nests\n",
      "Species refo has 0 nests\n",
      "Species rekn has 0 nests\n",
      "Species reph has 80 nests\n",
      "Species rlha has 0 nests\n",
      "Species rnph has 74 nests\n",
      "Species rnst has 0 nests\n",
      "Species rosa has 0 nests\n",
      "Species rtpi has 0 nests\n",
      "Species ruff has 0 nests\n",
      "Species rutu has 30 nests\n",
      "Species sacr has 0 nests\n",
      "Species sagu has 0 nests\n",
      "Species sand has 0 nests\n",
      "Species savs has 0 nests\n",
      "Species sbdo has 1 nests\n",
      "Species sbgu has 0 nests\n",
      "Species seow has 0 nests\n",
      "Species sepl has 105 nests\n",
      "Species sesa has 485 nests\n",
      "Species snow has 0 nests\n",
      "Species spei has 0 nests\n",
      "Species spre has 0 nests\n",
      "Species spsa has 0 nests\n",
      "Species spts has 0 nests\n",
      "Species stsa has 0 nests\n",
      "Species stwe has 0 nests\n",
      "Species test has 1 nests\n",
      "Species thgu has 0 nests\n",
      "Species tusw has 0 nests\n",
      "Species tuvo has 0 nests\n",
      "Species unfa has 0 nests\n",
      "Species ungu has 0 nests\n",
      "Species unja has 0 nests\n",
      "Species unle has 0 nests\n",
      "Species unra has 0 nests\n",
      "Species vegu has 0 nests\n",
      "Species wesa has 457 nests\n",
      "Species whim has 0 nests\n",
      "Species wipt has 0 nests\n",
      "Species wisn has 0 nests\n",
      "Species wolv has 0 nests\n",
      "Species wosa has 0 nests\n",
      "Species wrsa has 83 nests\n",
      "Species abdc has 0 nests\n",
      "Species efgh has 0 nests\n",
      "Species ijkl has 0 nests\n"
     ]
    }
   ],
   "source": [
    "cur.execute(\"SELECT Code FROM Species\")\n",
    "for row in cur.fetchall(): # In any other database, you could iterate over the cursor'\n",
    "    species_code = row[0]\n",
    "    cur2 = conn.cursor()\n",
    "    cur2.execute(query, [species_code])\n",
    "    num_nests = cur2.fetchone()[0]\n",
    "    print(f\"Species {species_code} has {num_nests} nests\")\n",
    "    cur2.close()"
   ]
  },
  {
   "cell_type": "markdown",
   "id": "aed3cc4f-27bd-4228-80e2-e5c2b934907c",
   "metadata": {},
   "source": [
    "There are a lot of convenience functions and packages"
   ]
  },
  {
   "cell_type": "code",
   "execution_count": 23,
   "id": "70254e8c-3eb8-4a25-bc00-06bf40590566",
   "metadata": {
    "tags": []
   },
   "outputs": [],
   "source": [
    "import pandas as pd"
   ]
  },
  {
   "cell_type": "code",
   "execution_count": 24,
   "id": "1870891d-2ff6-40e3-929d-4f7b1cdb6189",
   "metadata": {
    "tags": []
   },
   "outputs": [],
   "source": [
    "df = pd.read_sql(\"SELECT * FROM Site\", conn)"
   ]
  },
  {
   "cell_type": "code",
   "execution_count": 25,
   "id": "79df9e70-d886-4596-bcfc-075023946452",
   "metadata": {
    "tags": []
   },
   "outputs": [
    {
     "data": {
      "text/html": [
       "<div>\n",
       "<style scoped>\n",
       "    .dataframe tbody tr th:only-of-type {\n",
       "        vertical-align: middle;\n",
       "    }\n",
       "\n",
       "    .dataframe tbody tr th {\n",
       "        vertical-align: top;\n",
       "    }\n",
       "\n",
       "    .dataframe thead th {\n",
       "        text-align: right;\n",
       "    }\n",
       "</style>\n",
       "<table border=\"1\" class=\"dataframe\">\n",
       "  <thead>\n",
       "    <tr style=\"text-align: right;\">\n",
       "      <th></th>\n",
       "      <th>Code</th>\n",
       "      <th>Site_name</th>\n",
       "      <th>Location</th>\n",
       "      <th>Latitude</th>\n",
       "      <th>Longitude</th>\n",
       "      <th>Area</th>\n",
       "    </tr>\n",
       "  </thead>\n",
       "  <tbody>\n",
       "    <tr>\n",
       "      <th>0</th>\n",
       "      <td>barr</td>\n",
       "      <td>Barrow</td>\n",
       "      <td>Alaska, USA</td>\n",
       "      <td>71.300003</td>\n",
       "      <td>-156.600006</td>\n",
       "      <td>220.399994</td>\n",
       "    </tr>\n",
       "    <tr>\n",
       "      <th>1</th>\n",
       "      <td>burn</td>\n",
       "      <td>Burntpoint Creek</td>\n",
       "      <td>Ontario, Canada</td>\n",
       "      <td>55.200001</td>\n",
       "      <td>-84.300003</td>\n",
       "      <td>63.000000</td>\n",
       "    </tr>\n",
       "    <tr>\n",
       "      <th>2</th>\n",
       "      <td>bylo</td>\n",
       "      <td>Bylot Island</td>\n",
       "      <td>Nunavut, Canada</td>\n",
       "      <td>73.199997</td>\n",
       "      <td>-80.000000</td>\n",
       "      <td>723.599976</td>\n",
       "    </tr>\n",
       "    <tr>\n",
       "      <th>3</th>\n",
       "      <td>cakr</td>\n",
       "      <td>Cape Krusenstern</td>\n",
       "      <td>Alaska, USA</td>\n",
       "      <td>67.099998</td>\n",
       "      <td>-163.500000</td>\n",
       "      <td>54.099998</td>\n",
       "    </tr>\n",
       "    <tr>\n",
       "      <th>4</th>\n",
       "      <td>cari</td>\n",
       "      <td>Canning River Delta</td>\n",
       "      <td>Alaska, USA</td>\n",
       "      <td>70.099998</td>\n",
       "      <td>-145.800003</td>\n",
       "      <td>722.000000</td>\n",
       "    </tr>\n",
       "    <tr>\n",
       "      <th>5</th>\n",
       "      <td>chau</td>\n",
       "      <td>Chaun River Delta</td>\n",
       "      <td>Chukotka, Russia</td>\n",
       "      <td>68.800003</td>\n",
       "      <td>170.600006</td>\n",
       "      <td>248.199997</td>\n",
       "    </tr>\n",
       "    <tr>\n",
       "      <th>6</th>\n",
       "      <td>chur</td>\n",
       "      <td>Churchill</td>\n",
       "      <td>Manitoba, Canada</td>\n",
       "      <td>58.700001</td>\n",
       "      <td>-93.800003</td>\n",
       "      <td>866.900024</td>\n",
       "    </tr>\n",
       "    <tr>\n",
       "      <th>7</th>\n",
       "      <td>coat</td>\n",
       "      <td>Coats Island</td>\n",
       "      <td>Nunavut, Canada</td>\n",
       "      <td>62.900002</td>\n",
       "      <td>-82.500000</td>\n",
       "      <td>1239.099976</td>\n",
       "    </tr>\n",
       "    <tr>\n",
       "      <th>8</th>\n",
       "      <td>colv</td>\n",
       "      <td>Colville River Delta</td>\n",
       "      <td>Alaska, USA</td>\n",
       "      <td>70.400002</td>\n",
       "      <td>-150.699997</td>\n",
       "      <td>324.799988</td>\n",
       "    </tr>\n",
       "    <tr>\n",
       "      <th>9</th>\n",
       "      <td>eaba</td>\n",
       "      <td>East Bay</td>\n",
       "      <td>Nunavut, Canada</td>\n",
       "      <td>64.000000</td>\n",
       "      <td>-81.699997</td>\n",
       "      <td>1205.500000</td>\n",
       "    </tr>\n",
       "    <tr>\n",
       "      <th>10</th>\n",
       "      <td>iglo</td>\n",
       "      <td>Igloolik</td>\n",
       "      <td>Nunavut, Canada</td>\n",
       "      <td>69.400002</td>\n",
       "      <td>-81.599998</td>\n",
       "      <td>59.799999</td>\n",
       "    </tr>\n",
       "    <tr>\n",
       "      <th>11</th>\n",
       "      <td>ikpi</td>\n",
       "      <td>Ikpikpuk</td>\n",
       "      <td>Alaska, USA</td>\n",
       "      <td>70.599998</td>\n",
       "      <td>-154.699997</td>\n",
       "      <td>174.100006</td>\n",
       "    </tr>\n",
       "    <tr>\n",
       "      <th>12</th>\n",
       "      <td>lkri</td>\n",
       "      <td>Lower Khatanga River</td>\n",
       "      <td>Krasnoyarsk, Russia</td>\n",
       "      <td>72.900002</td>\n",
       "      <td>106.099998</td>\n",
       "      <td>270.899994</td>\n",
       "    </tr>\n",
       "    <tr>\n",
       "      <th>13</th>\n",
       "      <td>made</td>\n",
       "      <td>Mackenzie River Delta</td>\n",
       "      <td>Northwest Territories, Canada</td>\n",
       "      <td>69.400002</td>\n",
       "      <td>-135.000000</td>\n",
       "      <td>667.299988</td>\n",
       "    </tr>\n",
       "    <tr>\n",
       "      <th>14</th>\n",
       "      <td>nome</td>\n",
       "      <td>Nome</td>\n",
       "      <td>Alaska, USA</td>\n",
       "      <td>64.400002</td>\n",
       "      <td>-164.899994</td>\n",
       "      <td>90.099998</td>\n",
       "    </tr>\n",
       "    <tr>\n",
       "      <th>15</th>\n",
       "      <td>prba</td>\n",
       "      <td>Prudhoe Bay</td>\n",
       "      <td>Alaska, USA</td>\n",
       "      <td>70.300003</td>\n",
       "      <td>-148.600006</td>\n",
       "      <td>120.000000</td>\n",
       "    </tr>\n",
       "  </tbody>\n",
       "</table>\n",
       "</div>"
      ],
      "text/plain": [
       "    Code              Site_name                       Location   Latitude  \\\n",
       "0   barr                 Barrow                    Alaska, USA  71.300003   \n",
       "1   burn       Burntpoint Creek                Ontario, Canada  55.200001   \n",
       "2   bylo           Bylot Island                Nunavut, Canada  73.199997   \n",
       "3   cakr       Cape Krusenstern                    Alaska, USA  67.099998   \n",
       "4   cari    Canning River Delta                    Alaska, USA  70.099998   \n",
       "5   chau      Chaun River Delta               Chukotka, Russia  68.800003   \n",
       "6   chur              Churchill               Manitoba, Canada  58.700001   \n",
       "7   coat           Coats Island                Nunavut, Canada  62.900002   \n",
       "8   colv   Colville River Delta                    Alaska, USA  70.400002   \n",
       "9   eaba               East Bay                Nunavut, Canada  64.000000   \n",
       "10  iglo               Igloolik                Nunavut, Canada  69.400002   \n",
       "11  ikpi               Ikpikpuk                    Alaska, USA  70.599998   \n",
       "12  lkri   Lower Khatanga River            Krasnoyarsk, Russia  72.900002   \n",
       "13  made  Mackenzie River Delta  Northwest Territories, Canada  69.400002   \n",
       "14  nome                   Nome                    Alaska, USA  64.400002   \n",
       "15  prba            Prudhoe Bay                    Alaska, USA  70.300003   \n",
       "\n",
       "     Longitude         Area  \n",
       "0  -156.600006   220.399994  \n",
       "1   -84.300003    63.000000  \n",
       "2   -80.000000   723.599976  \n",
       "3  -163.500000    54.099998  \n",
       "4  -145.800003   722.000000  \n",
       "5   170.600006   248.199997  \n",
       "6   -93.800003   866.900024  \n",
       "7   -82.500000  1239.099976  \n",
       "8  -150.699997   324.799988  \n",
       "9   -81.699997  1205.500000  \n",
       "10  -81.599998    59.799999  \n",
       "11 -154.699997   174.100006  \n",
       "12  106.099998   270.899994  \n",
       "13 -135.000000   667.299988  \n",
       "14 -164.899994    90.099998  \n",
       "15 -148.600006   120.000000  "
      ]
     },
     "execution_count": 25,
     "metadata": {},
     "output_type": "execute_result"
    }
   ],
   "source": [
    "df"
   ]
  },
  {
   "cell_type": "code",
   "execution_count": null,
   "id": "7a79d395-4023-4ede-8a29-7e3c900ed83a",
   "metadata": {},
   "outputs": [],
   "source": []
  }
 ],
 "metadata": {
  "kernelspec": {
   "display_name": "Python 3 (ipykernel)",
   "language": "python",
   "name": "python3"
  },
  "language_info": {
   "codemirror_mode": {
    "name": "ipython",
    "version": 3
   },
   "file_extension": ".py",
   "mimetype": "text/x-python",
   "name": "python",
   "nbconvert_exporter": "python",
   "pygments_lexer": "ipython3",
   "version": "3.7.13"
  }
 },
 "nbformat": 4,
 "nbformat_minor": 5
}
