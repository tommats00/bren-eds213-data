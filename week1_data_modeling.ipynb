{
 "cells": [
  {
   "cell_type": "code",
   "execution_count": null,
   "id": "30ddc786",
   "metadata": {},
   "outputs": [],
   "source": [
    "# Import libraries\n",
    "import pandas as pd"
   ]
  },
  {
   "cell_type": "code",
   "execution_count": 3,
   "id": "6bcef43e",
   "metadata": {},
   "outputs": [
    {
     "data": {
      "text/html": [
       "<div>\n",
       "<style scoped>\n",
       "    .dataframe tbody tr th:only-of-type {\n",
       "        vertical-align: middle;\n",
       "    }\n",
       "\n",
       "    .dataframe tbody tr th {\n",
       "        vertical-align: top;\n",
       "    }\n",
       "\n",
       "    .dataframe thead th {\n",
       "        text-align: right;\n",
       "    }\n",
       "</style>\n",
       "<table border=\"1\" class=\"dataframe\">\n",
       "  <thead>\n",
       "    <tr style=\"text-align: right;\">\n",
       "      <th></th>\n",
       "      <th>Site</th>\n",
       "      <th>Year</th>\n",
       "      <th>Date</th>\n",
       "      <th>Plot</th>\n",
       "      <th>Location</th>\n",
       "      <th>Snow_cover</th>\n",
       "      <th>Water_cover</th>\n",
       "      <th>Land_cover</th>\n",
       "      <th>Total_cover</th>\n",
       "      <th>Observer</th>\n",
       "      <th>Notes</th>\n",
       "    </tr>\n",
       "  </thead>\n",
       "  <tbody>\n",
       "    <tr>\n",
       "      <th>0</th>\n",
       "      <td>barr</td>\n",
       "      <td>2011</td>\n",
       "      <td>2011-05-29</td>\n",
       "      <td>brw1</td>\n",
       "      <td>b10</td>\n",
       "      <td>90.0</td>\n",
       "      <td>0.0</td>\n",
       "      <td>10.0</td>\n",
       "      <td>100.0</td>\n",
       "      <td>adoll</td>\n",
       "      <td>NaN</td>\n",
       "    </tr>\n",
       "    <tr>\n",
       "      <th>1</th>\n",
       "      <td>barr</td>\n",
       "      <td>2011</td>\n",
       "      <td>2011-05-29</td>\n",
       "      <td>brw1</td>\n",
       "      <td>b12</td>\n",
       "      <td>100.0</td>\n",
       "      <td>0.0</td>\n",
       "      <td>0.0</td>\n",
       "      <td>100.0</td>\n",
       "      <td>adoll</td>\n",
       "      <td>NaN</td>\n",
       "    </tr>\n",
       "    <tr>\n",
       "      <th>2</th>\n",
       "      <td>barr</td>\n",
       "      <td>2011</td>\n",
       "      <td>2011-05-29</td>\n",
       "      <td>brw1</td>\n",
       "      <td>b2</td>\n",
       "      <td>90.0</td>\n",
       "      <td>0.0</td>\n",
       "      <td>10.0</td>\n",
       "      <td>100.0</td>\n",
       "      <td>adoll</td>\n",
       "      <td>NaN</td>\n",
       "    </tr>\n",
       "  </tbody>\n",
       "</table>\n",
       "</div>"
      ],
      "text/plain": [
       "   Site  Year        Date  Plot Location  Snow_cover  Water_cover  Land_cover  \\\n",
       "0  barr  2011  2011-05-29  brw1      b10        90.0          0.0        10.0   \n",
       "1  barr  2011  2011-05-29  brw1      b12       100.0          0.0         0.0   \n",
       "2  barr  2011  2011-05-29  brw1       b2        90.0          0.0        10.0   \n",
       "\n",
       "   Total_cover Observer Notes  \n",
       "0        100.0    adoll   NaN  \n",
       "1        100.0    adoll   NaN  \n",
       "2        100.0    adoll   NaN  "
      ]
     },
     "execution_count": 3,
     "metadata": {},
     "output_type": "execute_result"
    }
   ],
   "source": [
    "snow = pd.read_csv('ASDN_csv/ASDN_snow_survey.csv')\n",
    "\n",
    "snow.head(3)"
   ]
  },
  {
   "cell_type": "code",
   "execution_count": null,
   "id": "e778c6dd",
   "metadata": {},
   "outputs": [
    {
     "name": "stdout",
     "output_type": "stream",
     "text": [
      "<class 'pandas.core.frame.DataFrame'>\n",
      "RangeIndex: 27936 entries, 0 to 27935\n",
      "Data columns (total 11 columns):\n",
      " #   Column       Non-Null Count  Dtype  \n",
      "---  ------       --------------  -----  \n",
      " 0   Site         27936 non-null  object \n",
      " 1   Year         27936 non-null  int64  \n",
      " 2   Date         27936 non-null  object \n",
      " 3   Plot         27782 non-null  object \n",
      " 4   Location     27927 non-null  object \n",
      " 5   Snow_cover   27936 non-null  float64\n",
      " 6   Water_cover  27936 non-null  float64\n",
      " 7   Land_cover   27936 non-null  float64\n",
      " 8   Total_cover  27936 non-null  float64\n",
      " 9   Observer     27936 non-null  object \n",
      " 10  Notes        808 non-null    object \n",
      "dtypes: float64(4), int64(1), object(6)\n",
      "memory usage: 2.3+ MB\n"
     ]
    }
   ],
   "source": [
    "# View column types\n",
    "snow.info()"
   ]
  },
  {
   "cell_type": "markdown",
   "id": "a776c5f1",
   "metadata": {},
   "source": [
    "### Consider the following:\n",
    "\n",
    "- data types of columns (`TEXT`, `REAL`, `INTEGER`, `DATE`)\n",
    "- primary key\n",
    "- foreign key(s)\n",
    "- null values allowed\n",
    "- uniqueness constraints, on individual columns across columns\n",
    "- other column value constraints, on individual columns and across columns\n",
    "\n",
    "### Data Types\n",
    "Columns within the dataframe can be expressed as the following in `SQL`\n",
    "- `Site`: TEXT\n",
    "- `Year`: INTEGER\n",
    "- `Date`: DATE\n",
    "- `Plot`: TEXT\n",
    "- `Location`: TEXT\n",
    "- `Snow_cover`: REAL\n",
    "- `Water_cover`: REAL\n",
    "- `Land_cover`: REAL\n",
    "- `Total_cover`: REAL\n",
    "- `Observer`: TEXT\n",
    "- `Notes`: TEXT\n",
    "\n",
    "### Primary Key\n",
    "From the dataframe, it looks like we don't have one column that represents the primary key. It is more than likely composed of multiple columns. \n",
    "There are four columns that are likely to be part of the primary key: `Site`, `Date`, `Plot`, and `Location`. These columns together represent a unique observation of snow survey data.\n",
    "\n",
    "### Foreign Key(s)\n",
    "There are most likely a multitude of foreign keys. These foreign keys include `Site`, `Plot`, `Location`, and `Observer`. All four of these columns could have another table that gives more information about them. For example, `Site` could have information such as Continent, County, Coordinates, Average Temperature, etc. Likewise, all four columns could potentially have more information about them. \n",
    "\n",
    "### Null Values\n",
    "Yes, null values are allowed. One of the columns that partically has a lot of them is `Notes`. Most of the observations don't have notes within them, meaning they will contain Null values. This is okay as they are not necessary. \n",
    "\n",
    "### Uniqueness Constraints\n",
    "I don't think any columns have uniqueness in there values. From the `head` of our data, it suggests that each column has repetitive values. For example, we can see that `Site` is repeated all three times when viewing the `head` of the dataframe. Location has three different outputs for the three observations, however, it may be safe to say that they will be repeated as this is time series data. \n",
    "\n",
    "### Other Constraints\n",
    "Another constraint that can be viewed in a relational database is value constraints. This means that the output value has to be confined between a specific range. In our data here, we see this in the `cover` columns. This is because these represent percentage cover, meaning that they are values from 0 - 100%. \n"
   ]
  },
  {
   "cell_type": "code",
   "execution_count": 5,
   "id": "9aba7846",
   "metadata": {},
   "outputs": [
    {
     "ename": "ModuleNotFoundError",
     "evalue": "No module named 'duckdb'",
     "output_type": "error",
     "traceback": [
      "\u001b[1;31m---------------------------------------------------------------------------\u001b[0m",
      "\u001b[1;31mModuleNotFoundError\u001b[0m                       Traceback (most recent call last)",
      "Cell \u001b[1;32mIn[5], line 1\u001b[0m\n\u001b[1;32m----> 1\u001b[0m \u001b[38;5;28;01mimport\u001b[39;00m\u001b[38;5;250m \u001b[39m\u001b[38;5;21;01mduckdb\u001b[39;00m\n",
      "\u001b[1;31mModuleNotFoundError\u001b[0m: No module named 'duckdb'"
     ]
    }
   ],
   "source": [
    "import duckdb"
   ]
  },
  {
   "cell_type": "markdown",
   "id": "e08dde72",
   "metadata": {},
   "source": []
  },
  {
   "cell_type": "code",
   "execution_count": null,
   "id": "ee634ace",
   "metadata": {},
   "outputs": [],
   "source": []
  }
 ],
 "metadata": {
  "kernelspec": {
   "display_name": "Python 3",
   "language": "python",
   "name": "python3"
  },
  "language_info": {
   "codemirror_mode": {
    "name": "ipython",
    "version": 3
   },
   "file_extension": ".py",
   "mimetype": "text/x-python",
   "name": "python",
   "nbconvert_exporter": "python",
   "pygments_lexer": "ipython3",
   "version": "3.10.16"
  }
 },
 "nbformat": 4,
 "nbformat_minor": 5
}
