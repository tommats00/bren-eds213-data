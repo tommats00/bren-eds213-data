{
 "cells": [
  {
   "cell_type": "markdown",
   "id": "1a1bdfa1",
   "metadata": {},
   "source": [
    "## Week 1: Data Modeling\n",
    "\n",
    "In this exercise we are interested in creating a table definition for the `Snow_survey` that is maximally expressive. We will use as much SQL knownledge to define the information within this SQL table.\n",
    "\n",
    "The [GitHub Repository](https://github.com/UCSB-Library-Research-Data-Services/bren-eds213-data) contains the csv file used for this exercise under `ASDN_Snow_survey.csv`. \n",
    "\n",
    "### We will consider the following for the `Snow_survey.csv`\n",
    "\n",
    "- data types of columns (`TEXT`, `REAL`, `INTEGER`, `DATE`)\n",
    "- primary key\n",
    "- foreign key(s)\n",
    "- null values allowed\n",
    "- uniqueness constraints, on individual columns across columns\n",
    "- other column value constraints, on individual columns and across columns\n",
    "\n",
    "### Let's do some exploration to better define our columns\n"
   ]
  },
  {
   "cell_type": "code",
   "execution_count": 11,
   "id": "30ddc786",
   "metadata": {},
   "outputs": [],
   "source": [
    "# Import libraries\n",
    "import pandas as pd"
   ]
  },
  {
   "cell_type": "code",
   "execution_count": 7,
   "id": "6bcef43e",
   "metadata": {},
   "outputs": [
    {
     "data": {
      "text/html": [
       "<div>\n",
       "<style scoped>\n",
       "    .dataframe tbody tr th:only-of-type {\n",
       "        vertical-align: middle;\n",
       "    }\n",
       "\n",
       "    .dataframe tbody tr th {\n",
       "        vertical-align: top;\n",
       "    }\n",
       "\n",
       "    .dataframe thead th {\n",
       "        text-align: right;\n",
       "    }\n",
       "</style>\n",
       "<table border=\"1\" class=\"dataframe\">\n",
       "  <thead>\n",
       "    <tr style=\"text-align: right;\">\n",
       "      <th></th>\n",
       "      <th>Site</th>\n",
       "      <th>Year</th>\n",
       "      <th>Date</th>\n",
       "      <th>Plot</th>\n",
       "      <th>Location</th>\n",
       "      <th>Snow_cover</th>\n",
       "      <th>Water_cover</th>\n",
       "      <th>Land_cover</th>\n",
       "      <th>Total_cover</th>\n",
       "      <th>Observer</th>\n",
       "      <th>Notes</th>\n",
       "    </tr>\n",
       "  </thead>\n",
       "  <tbody>\n",
       "    <tr>\n",
       "      <th>0</th>\n",
       "      <td>barr</td>\n",
       "      <td>2011</td>\n",
       "      <td>2011-05-29</td>\n",
       "      <td>brw1</td>\n",
       "      <td>b10</td>\n",
       "      <td>90.0</td>\n",
       "      <td>0.0</td>\n",
       "      <td>10.0</td>\n",
       "      <td>100.0</td>\n",
       "      <td>adoll</td>\n",
       "      <td>NaN</td>\n",
       "    </tr>\n",
       "    <tr>\n",
       "      <th>1</th>\n",
       "      <td>barr</td>\n",
       "      <td>2011</td>\n",
       "      <td>2011-05-29</td>\n",
       "      <td>brw1</td>\n",
       "      <td>b12</td>\n",
       "      <td>100.0</td>\n",
       "      <td>0.0</td>\n",
       "      <td>0.0</td>\n",
       "      <td>100.0</td>\n",
       "      <td>adoll</td>\n",
       "      <td>NaN</td>\n",
       "    </tr>\n",
       "    <tr>\n",
       "      <th>2</th>\n",
       "      <td>barr</td>\n",
       "      <td>2011</td>\n",
       "      <td>2011-05-29</td>\n",
       "      <td>brw1</td>\n",
       "      <td>b2</td>\n",
       "      <td>90.0</td>\n",
       "      <td>0.0</td>\n",
       "      <td>10.0</td>\n",
       "      <td>100.0</td>\n",
       "      <td>adoll</td>\n",
       "      <td>NaN</td>\n",
       "    </tr>\n",
       "  </tbody>\n",
       "</table>\n",
       "</div>"
      ],
      "text/plain": [
       "   Site  Year        Date  Plot Location  Snow_cover  Water_cover  Land_cover  \\\n",
       "0  barr  2011  2011-05-29  brw1      b10        90.0          0.0        10.0   \n",
       "1  barr  2011  2011-05-29  brw1      b12       100.0          0.0         0.0   \n",
       "2  barr  2011  2011-05-29  brw1       b2        90.0          0.0        10.0   \n",
       "\n",
       "   Total_cover Observer Notes  \n",
       "0        100.0    adoll   NaN  \n",
       "1        100.0    adoll   NaN  \n",
       "2        100.0    adoll   NaN  "
      ]
     },
     "execution_count": 7,
     "metadata": {},
     "output_type": "execute_result"
    }
   ],
   "source": [
    "# Read in the data\n",
    "snow = pd.read_csv('ASDN_csv/ASDN_snow_survey.csv')\n",
    "\n",
    "# View first few rows\n",
    "snow.head(3)"
   ]
  },
  {
   "cell_type": "code",
   "execution_count": 8,
   "id": "e778c6dd",
   "metadata": {},
   "outputs": [
    {
     "data": {
      "text/plain": [
       "Site               0\n",
       "Year               0\n",
       "Date               0\n",
       "Plot             154\n",
       "Location           9\n",
       "Snow_cover         0\n",
       "Water_cover        0\n",
       "Land_cover         0\n",
       "Total_cover        0\n",
       "Observer           0\n",
       "Notes          27128\n",
       "dtype: int64"
      ]
     },
     "execution_count": 8,
     "metadata": {},
     "output_type": "execute_result"
    }
   ],
   "source": [
    "# View column types\n",
    "snow.isnull().sum()"
   ]
  },
  {
   "cell_type": "markdown",
   "id": "a776c5f1",
   "metadata": {},
   "source": [
    "### Consider the following:\n",
    "\n",
    "- data types of columns (`TEXT`, `REAL`, `INTEGER`, `DATE`)\n",
    "- primary key\n",
    "- foreign key(s)\n",
    "- null values allowed\n",
    "- uniqueness constraints, on individual columns across columns\n",
    "- other column value constraints, on individual columns and across columns\n",
    "\n",
    "### Data Types\n",
    "Columns within the dataframe can be expressed as the following in `SQL`\n",
    "- `Site`: TEXT\n",
    "- `Year`: INTEGER\n",
    "- `Date`: DATE\n",
    "- `Plot`: TEXT\n",
    "- `Location`: TEXT\n",
    "- `Snow_cover`: REAL\n",
    "- `Water_cover`: REAL\n",
    "- `Land_cover`: REAL\n",
    "- `Total_cover`: REAL\n",
    "- `Observer`: TEXT\n",
    "- `Notes`: TEXT\n",
    "\n",
    "### Primary Key\n",
    "From the dataframe, it looks like we don't have one column that represents the primary key. It is more than likely composed of multiple columns. \n",
    "There are four columns that are likely to be part of the primary key: `Site`, `Date`, `Plot`, and `Location`. These columns together represent a unique observation of snow survey data.\n",
    "\n",
    "### Foreign Key(s)\n",
    "There are most likely a multitude of foreign keys. These foreign keys include `Site`, `Plot`, `Location`, and `Observer`. All four of these columns could have another table that gives more information about them. For example, `Site` could have information such as Continent, County, Coordinates, Average Temperature, etc. Likewise, all four columns could potentially have more information about them. \n",
    "\n",
    "### Null Values\n",
    "Yes, null values are allowed. One of the columns that partically has a lot of them is `Notes`. Most of the observations don't have notes within them, meaning they will contain Null values. This is okay as they are not necessary. \n",
    "\n",
    "### Uniqueness Constraints\n",
    "I don't think any columns have uniqueness in there values. From the `head` of our data, it suggests that each column has repetitive values. For example, we can see that `Site` is repeated all three times when viewing the `head` of the dataframe. Location has three different outputs for the three observations, however, it may be safe to say that they will be repeated as this is time series data. \n",
    "\n",
    "### Other Constraints\n",
    "Another constraint that can be viewed in a relational database is value constraints. This means that the output value has to be confined between a specific range. In our data here, we see this in the `cover` columns. This is because these represent percentage cover, meaning that they are values from 0 - 100%. \n"
   ]
  },
  {
   "cell_type": "markdown",
   "id": "e08dde72",
   "metadata": {},
   "source": [
    "### SQL Table\n",
    "From our exploratory analysis and the reasoning explain above, I believe the SQL code will have an output similiar to the following: "
   ]
  },
  {
   "cell_type": "raw",
   "id": "ee634ace",
   "metadata": {
    "vscode": {
     "languageId": "raw"
    }
   },
   "source": [
    "CREATE TABLE Snow_survey (\n",
    "    Site TEXT NOT NULL,\n",
    "    Year INTEGER CHECK (Year > 0),\n",
    "    Date DATE NOT NULL,\n",
    "    Plot TEXT,\n",
    "    Location TEXT,\n",
    "    Snow_cover REAL CHECK (Snow_cover >= 0 AND Snow_cover <= 100),\n",
    "    Water_cover REAL CHECK (Water_cover >= 0 AND Water_cover <= 100),\n",
    "    Land_cover REAL CHECK (Land_cover >= 0 AND Land_cover <= 100),\n",
    "    Total_cover REAL CHECK (Total_cover >= 0 AND Total_cover <= 100),\n",
    "    Observer TEXT NOT NULL,\n",
    "    Notes TEXT,\n",
    "    FOREIGN KEY (Observer) REFERENCES Observers(Observer_ID),\n",
    "    FOREIGN KEY (Site) REFERENCES Sites(Site_ID),\n",
    "    FOREIGN KEY (Plot) REFERENCES Plots(Plot_ID),\n",
    "    FOREIGN KEY (Location) REFERENCES Locations(Location_ID)\n",
    ")"
   ]
  },
  {
   "cell_type": "markdown",
   "id": "358cf05f",
   "metadata": {},
   "source": []
  }
 ],
 "metadata": {
  "kernelspec": {
   "display_name": "Python 3",
   "language": "python",
   "name": "python3"
  },
  "language_info": {
   "codemirror_mode": {
    "name": "ipython",
    "version": 3
   },
   "file_extension": ".py",
   "mimetype": "text/x-python",
   "name": "python",
   "nbconvert_exporter": "python",
   "pygments_lexer": "ipython3",
   "version": "3.10.16"
  }
 },
 "nbformat": 4,
 "nbformat_minor": 5
}
