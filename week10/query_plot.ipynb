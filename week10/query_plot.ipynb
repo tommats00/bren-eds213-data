{
 "cells": [
  {
   "cell_type": "markdown",
   "id": "c6a24707",
   "metadata": {},
   "source": [
    "### Load Modules"
   ]
  },
  {
   "cell_type": "code",
   "execution_count": 5,
   "id": "28017861",
   "metadata": {},
   "outputs": [],
   "source": [
    "import pandas as pd\n",
    "import matplotlib.pyplot as plt\n",
    "import numpy as np"
   ]
  },
  {
   "cell_type": "code",
   "execution_count": 3,
   "id": "55466aac",
   "metadata": {},
   "outputs": [
    {
     "data": {
      "text/html": [
       "<div>\n",
       "<style scoped>\n",
       "    .dataframe tbody tr th:only-of-type {\n",
       "        vertical-align: middle;\n",
       "    }\n",
       "\n",
       "    .dataframe tbody tr th {\n",
       "        vertical-align: top;\n",
       "    }\n",
       "\n",
       "    .dataframe thead th {\n",
       "        text-align: right;\n",
       "    }\n",
       "</style>\n",
       "<table border=\"1\" class=\"dataframe\">\n",
       "  <thead>\n",
       "    <tr style=\"text-align: right;\">\n",
       "      <th></th>\n",
       "      <th>label</th>\n",
       "      <th>avg_query_time</th>\n",
       "      <th>num_distinct_values</th>\n",
       "    </tr>\n",
       "  </thead>\n",
       "  <tbody>\n",
       "    <tr>\n",
       "      <th>0</th>\n",
       "      <td>none</td>\n",
       "      <td>26.344</td>\n",
       "      <td>1</td>\n",
       "    </tr>\n",
       "    <tr>\n",
       "      <th>1</th>\n",
       "      <td>Site</td>\n",
       "      <td>8.756</td>\n",
       "      <td>16</td>\n",
       "    </tr>\n",
       "    <tr>\n",
       "      <th>2</th>\n",
       "      <td>Species</td>\n",
       "      <td>1.774</td>\n",
       "      <td>99</td>\n",
       "    </tr>\n",
       "    <tr>\n",
       "      <th>3</th>\n",
       "      <td>Year</td>\n",
       "      <td>2.393</td>\n",
       "      <td>66</td>\n",
       "    </tr>\n",
       "    <tr>\n",
       "      <th>4</th>\n",
       "      <td>Observer</td>\n",
       "      <td>0.856</td>\n",
       "      <td>269</td>\n",
       "    </tr>\n",
       "    <tr>\n",
       "      <th>5</th>\n",
       "      <td>ageMethod</td>\n",
       "      <td>62.903</td>\n",
       "      <td>3</td>\n",
       "    </tr>\n",
       "    <tr>\n",
       "      <th>6</th>\n",
       "      <td>Site,Species</td>\n",
       "      <td>0.309</td>\n",
       "      <td>1584</td>\n",
       "    </tr>\n",
       "    <tr>\n",
       "      <th>7</th>\n",
       "      <td>Site,Observer</td>\n",
       "      <td>0.377</td>\n",
       "      <td>4304</td>\n",
       "    </tr>\n",
       "    <tr>\n",
       "      <th>8</th>\n",
       "      <td>Species,Observer</td>\n",
       "      <td>0.175</td>\n",
       "      <td>26631</td>\n",
       "    </tr>\n",
       "    <tr>\n",
       "      <th>9</th>\n",
       "      <td>Year,Observer</td>\n",
       "      <td>0.198</td>\n",
       "      <td>17754</td>\n",
       "    </tr>\n",
       "    <tr>\n",
       "      <th>10</th>\n",
       "      <td>Observer,ageMethod</td>\n",
       "      <td>0.415</td>\n",
       "      <td>807</td>\n",
       "    </tr>\n",
       "    <tr>\n",
       "      <th>11</th>\n",
       "      <td>Site,Species,Observer</td>\n",
       "      <td>0.150</td>\n",
       "      <td>422204</td>\n",
       "    </tr>\n",
       "    <tr>\n",
       "      <th>12</th>\n",
       "      <td>Year,Observer,ageMethod</td>\n",
       "      <td>0.180</td>\n",
       "      <td>53262</td>\n",
       "    </tr>\n",
       "    <tr>\n",
       "      <th>13</th>\n",
       "      <td>Site,Species,ageMethod</td>\n",
       "      <td>0.247</td>\n",
       "      <td>4752</td>\n",
       "    </tr>\n",
       "    <tr>\n",
       "      <th>14</th>\n",
       "      <td>Site,Observer,ageMethod</td>\n",
       "      <td>0.215</td>\n",
       "      <td>12912</td>\n",
       "    </tr>\n",
       "  </tbody>\n",
       "</table>\n",
       "</div>"
      ],
      "text/plain": [
       "                      label  avg_query_time  num_distinct_values\n",
       "0                      none          26.344                    1\n",
       "1                      Site           8.756                   16\n",
       "2                   Species           1.774                   99\n",
       "3                      Year           2.393                   66\n",
       "4                  Observer           0.856                  269\n",
       "5                 ageMethod          62.903                    3\n",
       "6              Site,Species           0.309                 1584\n",
       "7             Site,Observer           0.377                 4304\n",
       "8          Species,Observer           0.175                26631\n",
       "9             Year,Observer           0.198                17754\n",
       "10       Observer,ageMethod           0.415                  807\n",
       "11    Site,Species,Observer           0.150               422204\n",
       "12  Year,Observer,ageMethod           0.180                53262\n",
       "13   Site,Species,ageMethod           0.247                 4752\n",
       "14  Site,Observer,ageMethod           0.215                12912"
      ]
     },
     "execution_count": 3,
     "metadata": {},
     "output_type": "execute_result"
    }
   ],
   "source": [
    "query = pd.read_csv(\"results.csv\")\n",
    "\n",
    "query"
   ]
  },
  {
   "cell_type": "code",
   "execution_count": 14,
   "id": "f55fcb96",
   "metadata": {},
   "outputs": [
    {
     "data": {
      "image/png": "[encoded data removed]",
      "text/plain": [
       "<Figure size 640x480 with 1 Axes>"
      ]
     },
     "metadata": {},
     "output_type": "display_data"
    }
   ],
   "source": [
    "# Log scatter plot\n",
    "fig, ax = plt.subplots()\n",
    "\n",
    "# Scatter plot\n",
    "plt.scatter(x = np.log(query['num_distinct_values']), y = np.log(query['avg_query_time']))\n",
    "plt.xlabel('Log Number of Distinct Values')\n",
    "plt.ylabel('Log Average Query Time')\n",
    "plt.title('Log Average Query Time per Log Number of Distinct Values')\n",
    "\n",
    "plt.show()"
   ]
  },
  {
   "cell_type": "markdown",
   "id": "5f18b1da",
   "metadata": {},
   "source": [
    "### Questions\n",
    "\n",
    "Answer these questions:\n",
    "- What relationship do you observe? Hypothesize why you see the relationship you do.\n",
    "We see as the log number of distinct values increases (X), the Log average query time decreases. So as there are more distinct values, the computation time increases. We can hypothesize that as the number of distinct values increases, it allows the index to narrow down the subset of rows. Since they can reduce the number of rows being observed, it increases the computation time. \n",
    "\n",
    "- What conclusion do you draw regarding what makes a good index?\n",
    "Knowing that query time is increased with the number of distinct values, we can say that having detailed indexes are important for speeding up the computation time. \n",
    "\n"
   ]
  }
 ],
 "metadata": {
  "kernelspec": {
   "display_name": "ml-env",
   "language": "python",
   "name": "python3"
  },
  "language_info": {
   "codemirror_mode": {
    "name": "ipython",
    "version": 3
   },
   "file_extension": ".py",
   "mimetype": "text/x-python",
   "name": "python",
   "nbconvert_exporter": "python",
   "pygments_lexer": "ipython3",
   "version": "3.10.16"
  }
 },
 "nbformat": 4,
 "nbformat_minor": 5
}
